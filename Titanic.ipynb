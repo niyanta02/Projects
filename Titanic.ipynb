{
 "cells": [
  {
   "cell_type": "markdown",
   "id": "3a537808",
   "metadata": {},
   "source": [
    "# Titanic Dataset\n",
    "Author - Niyanta"
   ]
  },
  {
   "cell_type": "code",
   "execution_count": 81,
   "id": "a8eb2cb6",
   "metadata": {},
   "outputs": [],
   "source": [
    "# imports\n",
    "import pandas as pd\n",
    "import os\n",
    "import numpy as np\n",
    "import sklearn.metrics as metric\n",
    "import matplotlib.pyplot as plt\n",
    "%matplotlib inline\n",
    "import random\n",
    "\n",
    "from sklearn.model_selection import train_test_split\n",
    "from sklearn import linear_model\n",
    "from sklearn.model_selection import cross_val_score\n",
    "from sklearn.metrics import confusion_matrix"
   ]
  },
  {
   "cell_type": "code",
   "execution_count": 84,
   "id": "605ef0eb",
   "metadata": {},
   "outputs": [],
   "source": [
    "pd.set_option('display.max_rows', 500)\n",
    "pd.set_option('display.max_columns', 100)\n",
    "\n",
    "# a.1 Load the “titanic.csv” data into a data frame\n",
    "df = pd.read_csv(\"titanic.csv\")"
   ]
  },
  {
   "cell_type": "markdown",
   "id": "fa0d45ad",
   "metadata": {},
   "source": [
    "## EDA"
   ]
  },
  {
   "cell_type": "code",
   "execution_count": 85,
   "id": "e3a8a464",
   "metadata": {},
   "outputs": [
    {
     "data": {
      "text/html": [
       "<div>\n",
       "<style scoped>\n",
       "    .dataframe tbody tr th:only-of-type {\n",
       "        vertical-align: middle;\n",
       "    }\n",
       "\n",
       "    .dataframe tbody tr th {\n",
       "        vertical-align: top;\n",
       "    }\n",
       "\n",
       "    .dataframe thead th {\n",
       "        text-align: right;\n",
       "    }\n",
       "</style>\n",
       "<table border=\"1\" class=\"dataframe\">\n",
       "  <thead>\n",
       "    <tr style=\"text-align: right;\">\n",
       "      <th></th>\n",
       "      <th>PassengerId</th>\n",
       "      <th>Survived</th>\n",
       "      <th>Pclass</th>\n",
       "      <th>Name</th>\n",
       "      <th>Sex</th>\n",
       "      <th>Age</th>\n",
       "      <th>SibSp</th>\n",
       "      <th>Parch</th>\n",
       "      <th>Ticket</th>\n",
       "      <th>Fare</th>\n",
       "      <th>Cabin</th>\n",
       "      <th>Embarked</th>\n",
       "    </tr>\n",
       "  </thead>\n",
       "  <tbody>\n",
       "    <tr>\n",
       "      <th>0</th>\n",
       "      <td>1</td>\n",
       "      <td>0</td>\n",
       "      <td>3</td>\n",
       "      <td>Braund, Mr. Owen Harris</td>\n",
       "      <td>male</td>\n",
       "      <td>22.0</td>\n",
       "      <td>1</td>\n",
       "      <td>0</td>\n",
       "      <td>A/5 21171</td>\n",
       "      <td>7.2500</td>\n",
       "      <td>NaN</td>\n",
       "      <td>S</td>\n",
       "    </tr>\n",
       "    <tr>\n",
       "      <th>1</th>\n",
       "      <td>2</td>\n",
       "      <td>1</td>\n",
       "      <td>1</td>\n",
       "      <td>Cumings, Mrs. John Bradley (Florence Briggs Th...</td>\n",
       "      <td>female</td>\n",
       "      <td>38.0</td>\n",
       "      <td>1</td>\n",
       "      <td>0</td>\n",
       "      <td>PC 17599</td>\n",
       "      <td>71.2833</td>\n",
       "      <td>C85</td>\n",
       "      <td>C</td>\n",
       "    </tr>\n",
       "    <tr>\n",
       "      <th>2</th>\n",
       "      <td>3</td>\n",
       "      <td>1</td>\n",
       "      <td>3</td>\n",
       "      <td>Heikkinen, Miss. Laina</td>\n",
       "      <td>female</td>\n",
       "      <td>26.0</td>\n",
       "      <td>0</td>\n",
       "      <td>0</td>\n",
       "      <td>STON/O2. 3101282</td>\n",
       "      <td>7.9250</td>\n",
       "      <td>NaN</td>\n",
       "      <td>S</td>\n",
       "    </tr>\n",
       "  </tbody>\n",
       "</table>\n",
       "</div>"
      ],
      "text/plain": [
       "   PassengerId  Survived  Pclass  \\\n",
       "0            1         0       3   \n",
       "1            2         1       1   \n",
       "2            3         1       3   \n",
       "\n",
       "                                                Name     Sex   Age  SibSp  \\\n",
       "0                            Braund, Mr. Owen Harris    male  22.0      1   \n",
       "1  Cumings, Mrs. John Bradley (Florence Briggs Th...  female  38.0      1   \n",
       "2                             Heikkinen, Miss. Laina  female  26.0      0   \n",
       "\n",
       "   Parch            Ticket     Fare Cabin Embarked  \n",
       "0      0         A/5 21171   7.2500   NaN        S  \n",
       "1      0          PC 17599  71.2833   C85        C  \n",
       "2      0  STON/O2. 3101282   7.9250   NaN        S  "
      ]
     },
     "execution_count": 85,
     "metadata": {},
     "output_type": "execute_result"
    }
   ],
   "source": [
    "# b.1 Display the first 3 records.\n",
    "df.head(3)"
   ]
  },
  {
   "cell_type": "code",
   "execution_count": 86,
   "id": "b8c24c8a",
   "metadata": {},
   "outputs": [
    {
     "name": "stdout",
     "output_type": "stream",
     "text": [
      "(891, 12)\n"
     ]
    }
   ],
   "source": [
    "# b.2 Display (print) the shape of the dataframe.\n",
    "print(df.shape)"
   ]
  },
  {
   "cell_type": "code",
   "execution_count": 87,
   "id": "6eae87d8",
   "metadata": {},
   "outputs": [
    {
     "name": "stdout",
     "output_type": "stream",
     "text": [
      "<class 'pandas.core.frame.DataFrame'>\n",
      "RangeIndex: 891 entries, 0 to 890\n",
      "Data columns (total 12 columns):\n",
      " #   Column       Non-Null Count  Dtype  \n",
      "---  ------       --------------  -----  \n",
      " 0   PassengerId  891 non-null    int64  \n",
      " 1   Survived     891 non-null    int64  \n",
      " 2   Pclass       891 non-null    int64  \n",
      " 3   Name         891 non-null    object \n",
      " 4   Sex          891 non-null    object \n",
      " 5   Age          714 non-null    float64\n",
      " 6   SibSp        891 non-null    int64  \n",
      " 7   Parch        891 non-null    int64  \n",
      " 8   Ticket       891 non-null    object \n",
      " 9   Fare         891 non-null    float64\n",
      " 10  Cabin        204 non-null    object \n",
      " 11  Embarked     889 non-null    object \n",
      "dtypes: float64(2), int64(5), object(5)\n",
      "memory usage: 83.7+ KB\n",
      "None\n"
     ]
    }
   ],
   "source": [
    "# b.3 Display (print) the names, types and counts\n",
    "print(df.info())"
   ]
  },
  {
   "cell_type": "code",
   "execution_count": 88,
   "id": "8c84cac2",
   "metadata": {},
   "outputs": [
    {
     "name": "stdout",
     "output_type": "stream",
     "text": [
      "Cabin          687\n",
      "Age            177\n",
      "Embarked         2\n",
      "PassengerId      0\n",
      "Survived         0\n",
      "Pclass           0\n",
      "Name             0\n",
      "Sex              0\n",
      "SibSp            0\n",
      "Parch            0\n",
      "Ticket           0\n",
      "Fare             0\n",
      "dtype: int64\n"
     ]
    }
   ],
   "source": [
    "# b.4 columns with unique values, columns with a lot of missing values\n",
    "print(df.isnull().sum().sort_values(ascending=False))"
   ]
  },
  {
   "cell_type": "code",
   "execution_count": 89,
   "id": "8d2034cf",
   "metadata": {},
   "outputs": [
    {
     "name": "stdout",
     "output_type": "stream",
     "text": [
      "['male' 'female']\n",
      "[3 1 2]\n"
     ]
    }
   ],
   "source": [
    "# b.5 Display (print the unique values for the following columns : (“Sex”, “Pclass”)\n",
    "print(df['Sex'].unique())\n",
    "print(df['Pclass'].unique())"
   ]
  },
  {
   "cell_type": "markdown",
   "id": "46df7aa8",
   "metadata": {},
   "source": [
    "## Data visualization"
   ]
  },
  {
   "cell_type": "code",
   "execution_count": 90,
   "id": "0450915b",
   "metadata": {},
   "outputs": [
    {
     "data": {
      "text/plain": [
       "Text(0.5, 0, 'Passenger classes')"
      ]
     },
     "execution_count": 90,
     "metadata": {},
     "output_type": "execute_result"
    },
    {
     "data": {
      "image/png": "[encoded data removed]",
      "text/plain": [
       "<Figure size 640x480 with 1 Axes>"
      ]
     },
     "metadata": {},
     "output_type": "display_data"
    }
   ],
   "source": [
    "\n",
    "# c.1.a Data visualization\n",
    "pd.crosstab(df.Pclass, df.Survived).plot(kind='bar')\n",
    "plt.title('Survived Vs Passenger Class Estimation')\n",
    "plt.ylabel('# of people survived')\n",
    "plt.xlabel('Passenger classes')\n"
   ]
  },
  {
   "cell_type": "code",
   "execution_count": 91,
   "id": "4a0b3690",
   "metadata": {},
   "outputs": [
    {
     "data": {
      "text/plain": [
       "Text(0.5, 0, 'Gender')"
      ]
     },
     "execution_count": 91,
     "metadata": {},
     "output_type": "execute_result"
    },
    {
     "data": {
      "image/png": "[encoded data removed]",
      "text/plain": [
       "<Figure size 640x480 with 1 Axes>"
      ]
     },
     "metadata": {},
     "output_type": "display_data"
    }
   ],
   "source": [
    "# c.1.b Data visualization\n",
    "pd.crosstab(df.Sex, df.Survived).plot(kind='bar')\n",
    "plt.title('Survived Vs Gender Estimation')\n",
    "plt.ylabel('# of people survived')\n",
    "plt.xlabel('Gender')"
   ]
  },
  {
   "cell_type": "code",
   "execution_count": 92,
   "id": "410c4d6b",
   "metadata": {},
   "outputs": [
    {
     "data": {
      "image/png": "[encoded data removed]",
      "text/plain": [
       "<Figure size 1300x1500 with 25 Axes>"
      ]
     },
     "metadata": {},
     "output_type": "display_data"
    }
   ],
   "source": [
    "# c.2 Use pandas scatter matrix to plot the relationships between the number of survived\n",
    "df_scatter = df[['Survived','Pclass','Sex','Fare','SibSp','Parch']]\n",
    "pd.plotting.scatter_matrix(df_scatter, figsize=(13,15))\n",
    "plt.show()"
   ]
  },
  {
   "cell_type": "markdown",
   "id": "7f5c3985",
   "metadata": {},
   "source": [
    "# Data preprocessing"
   ]
  },
  {
   "cell_type": "code",
   "execution_count": 93,
   "id": "f3f27e07",
   "metadata": {},
   "outputs": [
    {
     "data": {
      "text/plain": [
       "'\\n1. Drop the three columns you identified in point (b.4) above.\\n2. Using “Get dummies” transform all the categorical variables in your dataframe into numeric values.\\n3. Attach the newly created variables to your dataframe and drop the original columns.\\n'"
      ]
     },
     "execution_count": 93,
     "metadata": {},
     "output_type": "execute_result"
    }
   ],
   "source": [
    "\n",
    "# d.1 Drop the three columns you identified in point (b.4) above.\n",
    "df = df.drop(['Cabin', 'Name', 'Ticket'], axis=1)\n",
    "\n",
    "\n",
    "\"\"\"\n",
    "1. Drop the three columns you identified in point (b.4) above.\n",
    "2. Using “Get dummies” transform all the categorical variables in your dataframe into numeric values.\n",
    "3. Attach the newly created variables to your dataframe and drop the original columns.\n",
    "\"\"\""
   ]
  },
  {
   "cell_type": "code",
   "execution_count": 94,
   "id": "b8d5b487",
   "metadata": {},
   "outputs": [
    {
     "data": {
      "text/html": [
       "<div>\n",
       "<style scoped>\n",
       "    .dataframe tbody tr th:only-of-type {\n",
       "        vertical-align: middle;\n",
       "    }\n",
       "\n",
       "    .dataframe tbody tr th {\n",
       "        vertical-align: top;\n",
       "    }\n",
       "\n",
       "    .dataframe thead th {\n",
       "        text-align: right;\n",
       "    }\n",
       "</style>\n",
       "<table border=\"1\" class=\"dataframe\">\n",
       "  <thead>\n",
       "    <tr style=\"text-align: right;\">\n",
       "      <th></th>\n",
       "      <th>PassengerId</th>\n",
       "      <th>Survived</th>\n",
       "      <th>Pclass</th>\n",
       "      <th>Sex</th>\n",
       "      <th>Age</th>\n",
       "      <th>SibSp</th>\n",
       "      <th>Parch</th>\n",
       "      <th>Fare</th>\n",
       "      <th>Embarked</th>\n",
       "    </tr>\n",
       "  </thead>\n",
       "  <tbody>\n",
       "    <tr>\n",
       "      <th>0</th>\n",
       "      <td>1</td>\n",
       "      <td>0</td>\n",
       "      <td>3</td>\n",
       "      <td>male</td>\n",
       "      <td>22.0</td>\n",
       "      <td>1</td>\n",
       "      <td>0</td>\n",
       "      <td>7.2500</td>\n",
       "      <td>S</td>\n",
       "    </tr>\n",
       "    <tr>\n",
       "      <th>1</th>\n",
       "      <td>2</td>\n",
       "      <td>1</td>\n",
       "      <td>1</td>\n",
       "      <td>female</td>\n",
       "      <td>38.0</td>\n",
       "      <td>1</td>\n",
       "      <td>0</td>\n",
       "      <td>71.2833</td>\n",
       "      <td>C</td>\n",
       "    </tr>\n",
       "    <tr>\n",
       "      <th>2</th>\n",
       "      <td>3</td>\n",
       "      <td>1</td>\n",
       "      <td>3</td>\n",
       "      <td>female</td>\n",
       "      <td>26.0</td>\n",
       "      <td>0</td>\n",
       "      <td>0</td>\n",
       "      <td>7.9250</td>\n",
       "      <td>S</td>\n",
       "    </tr>\n",
       "    <tr>\n",
       "      <th>3</th>\n",
       "      <td>4</td>\n",
       "      <td>1</td>\n",
       "      <td>1</td>\n",
       "      <td>female</td>\n",
       "      <td>35.0</td>\n",
       "      <td>1</td>\n",
       "      <td>0</td>\n",
       "      <td>53.1000</td>\n",
       "      <td>S</td>\n",
       "    </tr>\n",
       "    <tr>\n",
       "      <th>4</th>\n",
       "      <td>5</td>\n",
       "      <td>0</td>\n",
       "      <td>3</td>\n",
       "      <td>male</td>\n",
       "      <td>35.0</td>\n",
       "      <td>0</td>\n",
       "      <td>0</td>\n",
       "      <td>8.0500</td>\n",
       "      <td>S</td>\n",
       "    </tr>\n",
       "  </tbody>\n",
       "</table>\n",
       "</div>"
      ],
      "text/plain": [
       "   PassengerId  Survived  Pclass     Sex   Age  SibSp  Parch     Fare Embarked\n",
       "0            1         0       3    male  22.0      1      0   7.2500        S\n",
       "1            2         1       1  female  38.0      1      0  71.2833        C\n",
       "2            3         1       3  female  26.0      0      0   7.9250        S\n",
       "3            4         1       1  female  35.0      1      0  53.1000        S\n",
       "4            5         0       3    male  35.0      0      0   8.0500        S"
      ]
     },
     "execution_count": 94,
     "metadata": {},
     "output_type": "execute_result"
    }
   ],
   "source": [
    "df.head()"
   ]
  },
  {
   "cell_type": "code",
   "execution_count": 95,
   "id": "3c152e1a",
   "metadata": {},
   "outputs": [
    {
     "name": "stdout",
     "output_type": "stream",
     "text": [
      "var_Sex\n",
      "var_Embarked\n"
     ]
    }
   ],
   "source": [
    "category_vars=['Sex','Embarked']\n",
    "for var in category_vars:\n",
    "    cat_list='var'+'_'+var\n",
    "    print(cat_list)\n",
    "    cat_list = pd.get_dummies(df[var], prefix=var)\n",
    "    df_cat= df.join(cat_list)\n",
    "    df=df_cat\n"
   ]
  },
  {
   "cell_type": "code",
   "execution_count": 96,
   "id": "240e1863",
   "metadata": {},
   "outputs": [
    {
     "data": {
      "text/html": [
       "<div>\n",
       "<style scoped>\n",
       "    .dataframe tbody tr th:only-of-type {\n",
       "        vertical-align: middle;\n",
       "    }\n",
       "\n",
       "    .dataframe tbody tr th {\n",
       "        vertical-align: top;\n",
       "    }\n",
       "\n",
       "    .dataframe thead th {\n",
       "        text-align: right;\n",
       "    }\n",
       "</style>\n",
       "<table border=\"1\" class=\"dataframe\">\n",
       "  <thead>\n",
       "    <tr style=\"text-align: right;\">\n",
       "      <th></th>\n",
       "      <th>PassengerId</th>\n",
       "      <th>Survived</th>\n",
       "      <th>Pclass</th>\n",
       "      <th>Sex</th>\n",
       "      <th>Age</th>\n",
       "      <th>SibSp</th>\n",
       "      <th>Parch</th>\n",
       "      <th>Fare</th>\n",
       "      <th>Embarked</th>\n",
       "      <th>Sex_female</th>\n",
       "      <th>Sex_male</th>\n",
       "      <th>Embarked_C</th>\n",
       "      <th>Embarked_Q</th>\n",
       "      <th>Embarked_S</th>\n",
       "    </tr>\n",
       "  </thead>\n",
       "  <tbody>\n",
       "    <tr>\n",
       "      <th>0</th>\n",
       "      <td>1</td>\n",
       "      <td>0</td>\n",
       "      <td>3</td>\n",
       "      <td>male</td>\n",
       "      <td>22.0</td>\n",
       "      <td>1</td>\n",
       "      <td>0</td>\n",
       "      <td>7.2500</td>\n",
       "      <td>S</td>\n",
       "      <td>0</td>\n",
       "      <td>1</td>\n",
       "      <td>0</td>\n",
       "      <td>0</td>\n",
       "      <td>1</td>\n",
       "    </tr>\n",
       "    <tr>\n",
       "      <th>1</th>\n",
       "      <td>2</td>\n",
       "      <td>1</td>\n",
       "      <td>1</td>\n",
       "      <td>female</td>\n",
       "      <td>38.0</td>\n",
       "      <td>1</td>\n",
       "      <td>0</td>\n",
       "      <td>71.2833</td>\n",
       "      <td>C</td>\n",
       "      <td>1</td>\n",
       "      <td>0</td>\n",
       "      <td>1</td>\n",
       "      <td>0</td>\n",
       "      <td>0</td>\n",
       "    </tr>\n",
       "    <tr>\n",
       "      <th>2</th>\n",
       "      <td>3</td>\n",
       "      <td>1</td>\n",
       "      <td>3</td>\n",
       "      <td>female</td>\n",
       "      <td>26.0</td>\n",
       "      <td>0</td>\n",
       "      <td>0</td>\n",
       "      <td>7.9250</td>\n",
       "      <td>S</td>\n",
       "      <td>1</td>\n",
       "      <td>0</td>\n",
       "      <td>0</td>\n",
       "      <td>0</td>\n",
       "      <td>1</td>\n",
       "    </tr>\n",
       "    <tr>\n",
       "      <th>3</th>\n",
       "      <td>4</td>\n",
       "      <td>1</td>\n",
       "      <td>1</td>\n",
       "      <td>female</td>\n",
       "      <td>35.0</td>\n",
       "      <td>1</td>\n",
       "      <td>0</td>\n",
       "      <td>53.1000</td>\n",
       "      <td>S</td>\n",
       "      <td>1</td>\n",
       "      <td>0</td>\n",
       "      <td>0</td>\n",
       "      <td>0</td>\n",
       "      <td>1</td>\n",
       "    </tr>\n",
       "    <tr>\n",
       "      <th>4</th>\n",
       "      <td>5</td>\n",
       "      <td>0</td>\n",
       "      <td>3</td>\n",
       "      <td>male</td>\n",
       "      <td>35.0</td>\n",
       "      <td>0</td>\n",
       "      <td>0</td>\n",
       "      <td>8.0500</td>\n",
       "      <td>S</td>\n",
       "      <td>0</td>\n",
       "      <td>1</td>\n",
       "      <td>0</td>\n",
       "      <td>0</td>\n",
       "      <td>1</td>\n",
       "    </tr>\n",
       "  </tbody>\n",
       "</table>\n",
       "</div>"
      ],
      "text/plain": [
       "   PassengerId  Survived  Pclass     Sex   Age  SibSp  Parch     Fare  \\\n",
       "0            1         0       3    male  22.0      1      0   7.2500   \n",
       "1            2         1       1  female  38.0      1      0  71.2833   \n",
       "2            3         1       3  female  26.0      0      0   7.9250   \n",
       "3            4         1       1  female  35.0      1      0  53.1000   \n",
       "4            5         0       3    male  35.0      0      0   8.0500   \n",
       "\n",
       "  Embarked  Sex_female  Sex_male  Embarked_C  Embarked_Q  Embarked_S  \n",
       "0        S           0         1           0           0           1  \n",
       "1        C           1         0           1           0           0  \n",
       "2        S           1         0           0           0           1  \n",
       "3        S           1         0           0           0           1  \n",
       "4        S           0         1           0           0           1  "
      ]
     },
     "execution_count": 96,
     "metadata": {},
     "output_type": "execute_result"
    }
   ],
   "source": [
    "df.head()"
   ]
  },
  {
   "cell_type": "code",
   "execution_count": 97,
   "id": "3a65cda2",
   "metadata": {},
   "outputs": [],
   "source": [
    "# d.4 Remove the original categorical variables columns   \n",
    "df.drop(['Sex','Embarked'], inplace=True, axis=1)\n"
   ]
  },
  {
   "cell_type": "code",
   "execution_count": 98,
   "id": "2143663d",
   "metadata": {},
   "outputs": [
    {
     "data": {
      "text/html": [
       "<div>\n",
       "<style scoped>\n",
       "    .dataframe tbody tr th:only-of-type {\n",
       "        vertical-align: middle;\n",
       "    }\n",
       "\n",
       "    .dataframe tbody tr th {\n",
       "        vertical-align: top;\n",
       "    }\n",
       "\n",
       "    .dataframe thead th {\n",
       "        text-align: right;\n",
       "    }\n",
       "</style>\n",
       "<table border=\"1\" class=\"dataframe\">\n",
       "  <thead>\n",
       "    <tr style=\"text-align: right;\">\n",
       "      <th></th>\n",
       "      <th>PassengerId</th>\n",
       "      <th>Survived</th>\n",
       "      <th>Pclass</th>\n",
       "      <th>Age</th>\n",
       "      <th>SibSp</th>\n",
       "      <th>Parch</th>\n",
       "      <th>Fare</th>\n",
       "      <th>Sex_female</th>\n",
       "      <th>Sex_male</th>\n",
       "      <th>Embarked_C</th>\n",
       "      <th>Embarked_Q</th>\n",
       "      <th>Embarked_S</th>\n",
       "    </tr>\n",
       "  </thead>\n",
       "  <tbody>\n",
       "    <tr>\n",
       "      <th>0</th>\n",
       "      <td>1</td>\n",
       "      <td>0</td>\n",
       "      <td>3</td>\n",
       "      <td>22.0</td>\n",
       "      <td>1</td>\n",
       "      <td>0</td>\n",
       "      <td>7.2500</td>\n",
       "      <td>0</td>\n",
       "      <td>1</td>\n",
       "      <td>0</td>\n",
       "      <td>0</td>\n",
       "      <td>1</td>\n",
       "    </tr>\n",
       "    <tr>\n",
       "      <th>1</th>\n",
       "      <td>2</td>\n",
       "      <td>1</td>\n",
       "      <td>1</td>\n",
       "      <td>38.0</td>\n",
       "      <td>1</td>\n",
       "      <td>0</td>\n",
       "      <td>71.2833</td>\n",
       "      <td>1</td>\n",
       "      <td>0</td>\n",
       "      <td>1</td>\n",
       "      <td>0</td>\n",
       "      <td>0</td>\n",
       "    </tr>\n",
       "    <tr>\n",
       "      <th>2</th>\n",
       "      <td>3</td>\n",
       "      <td>1</td>\n",
       "      <td>3</td>\n",
       "      <td>26.0</td>\n",
       "      <td>0</td>\n",
       "      <td>0</td>\n",
       "      <td>7.9250</td>\n",
       "      <td>1</td>\n",
       "      <td>0</td>\n",
       "      <td>0</td>\n",
       "      <td>0</td>\n",
       "      <td>1</td>\n",
       "    </tr>\n",
       "    <tr>\n",
       "      <th>3</th>\n",
       "      <td>4</td>\n",
       "      <td>1</td>\n",
       "      <td>1</td>\n",
       "      <td>35.0</td>\n",
       "      <td>1</td>\n",
       "      <td>0</td>\n",
       "      <td>53.1000</td>\n",
       "      <td>1</td>\n",
       "      <td>0</td>\n",
       "      <td>0</td>\n",
       "      <td>0</td>\n",
       "      <td>1</td>\n",
       "    </tr>\n",
       "    <tr>\n",
       "      <th>4</th>\n",
       "      <td>5</td>\n",
       "      <td>0</td>\n",
       "      <td>3</td>\n",
       "      <td>35.0</td>\n",
       "      <td>0</td>\n",
       "      <td>0</td>\n",
       "      <td>8.0500</td>\n",
       "      <td>0</td>\n",
       "      <td>1</td>\n",
       "      <td>0</td>\n",
       "      <td>0</td>\n",
       "      <td>1</td>\n",
       "    </tr>\n",
       "  </tbody>\n",
       "</table>\n",
       "</div>"
      ],
      "text/plain": [
       "   PassengerId  Survived  Pclass   Age  SibSp  Parch     Fare  Sex_female  \\\n",
       "0            1         0       3  22.0      1      0   7.2500           0   \n",
       "1            2         1       1  38.0      1      0  71.2833           1   \n",
       "2            3         1       3  26.0      0      0   7.9250           1   \n",
       "3            4         1       1  35.0      1      0  53.1000           1   \n",
       "4            5         0       3  35.0      0      0   8.0500           0   \n",
       "\n",
       "   Sex_male  Embarked_C  Embarked_Q  Embarked_S  \n",
       "0         1           0           0           1  \n",
       "1         0           1           0           0  \n",
       "2         0           0           0           1  \n",
       "3         0           0           0           1  \n",
       "4         1           0           0           1  "
      ]
     },
     "execution_count": 98,
     "metadata": {},
     "output_type": "execute_result"
    }
   ],
   "source": [
    "df.head()"
   ]
  },
  {
   "cell_type": "code",
   "execution_count": 99,
   "id": "5dcd7398",
   "metadata": {},
   "outputs": [],
   "source": [
    "# d.5 Replace the missing values in the Age with the mean of the age. \n",
    "df['Age'].fillna(df['Age'].median(), inplace=True)\n"
   ]
  },
  {
   "cell_type": "code",
   "execution_count": 100,
   "id": "ed6eca59",
   "metadata": {},
   "outputs": [],
   "source": [
    "# d.6 Change all column types into float.\n",
    "df = df.astype('float')"
   ]
  },
  {
   "cell_type": "code",
   "execution_count": 101,
   "id": "b9de4745",
   "metadata": {},
   "outputs": [
    {
     "data": {
      "text/html": [
       "<div>\n",
       "<style scoped>\n",
       "    .dataframe tbody tr th:only-of-type {\n",
       "        vertical-align: middle;\n",
       "    }\n",
       "\n",
       "    .dataframe tbody tr th {\n",
       "        vertical-align: top;\n",
       "    }\n",
       "\n",
       "    .dataframe thead th {\n",
       "        text-align: right;\n",
       "    }\n",
       "</style>\n",
       "<table border=\"1\" class=\"dataframe\">\n",
       "  <thead>\n",
       "    <tr style=\"text-align: right;\">\n",
       "      <th></th>\n",
       "      <th>PassengerId</th>\n",
       "      <th>Survived</th>\n",
       "      <th>Pclass</th>\n",
       "      <th>Age</th>\n",
       "      <th>SibSp</th>\n",
       "      <th>Parch</th>\n",
       "      <th>Fare</th>\n",
       "      <th>Sex_female</th>\n",
       "      <th>Sex_male</th>\n",
       "      <th>Embarked_C</th>\n",
       "      <th>Embarked_Q</th>\n",
       "      <th>Embarked_S</th>\n",
       "    </tr>\n",
       "  </thead>\n",
       "  <tbody>\n",
       "    <tr>\n",
       "      <th>0</th>\n",
       "      <td>1.0</td>\n",
       "      <td>0.0</td>\n",
       "      <td>3.0</td>\n",
       "      <td>22.0</td>\n",
       "      <td>1.0</td>\n",
       "      <td>0.0</td>\n",
       "      <td>7.2500</td>\n",
       "      <td>0.0</td>\n",
       "      <td>1.0</td>\n",
       "      <td>0.0</td>\n",
       "      <td>0.0</td>\n",
       "      <td>1.0</td>\n",
       "    </tr>\n",
       "    <tr>\n",
       "      <th>1</th>\n",
       "      <td>2.0</td>\n",
       "      <td>1.0</td>\n",
       "      <td>1.0</td>\n",
       "      <td>38.0</td>\n",
       "      <td>1.0</td>\n",
       "      <td>0.0</td>\n",
       "      <td>71.2833</td>\n",
       "      <td>1.0</td>\n",
       "      <td>0.0</td>\n",
       "      <td>1.0</td>\n",
       "      <td>0.0</td>\n",
       "      <td>0.0</td>\n",
       "    </tr>\n",
       "    <tr>\n",
       "      <th>2</th>\n",
       "      <td>3.0</td>\n",
       "      <td>1.0</td>\n",
       "      <td>3.0</td>\n",
       "      <td>26.0</td>\n",
       "      <td>0.0</td>\n",
       "      <td>0.0</td>\n",
       "      <td>7.9250</td>\n",
       "      <td>1.0</td>\n",
       "      <td>0.0</td>\n",
       "      <td>0.0</td>\n",
       "      <td>0.0</td>\n",
       "      <td>1.0</td>\n",
       "    </tr>\n",
       "  </tbody>\n",
       "</table>\n",
       "</div>"
      ],
      "text/plain": [
       "   PassengerId  Survived  Pclass   Age  SibSp  Parch     Fare  Sex_female  \\\n",
       "0          1.0       0.0     3.0  22.0    1.0    0.0   7.2500         0.0   \n",
       "1          2.0       1.0     1.0  38.0    1.0    0.0  71.2833         1.0   \n",
       "2          3.0       1.0     3.0  26.0    0.0    0.0   7.9250         1.0   \n",
       "\n",
       "   Sex_male  Embarked_C  Embarked_Q  Embarked_S  \n",
       "0       1.0         0.0         0.0         1.0  \n",
       "1       0.0         1.0         0.0         0.0  \n",
       "2       0.0         0.0         0.0         1.0  "
      ]
     },
     "execution_count": 101,
     "metadata": {},
     "output_type": "execute_result"
    }
   ],
   "source": [
    "df.head(3)"
   ]
  },
  {
   "cell_type": "code",
   "execution_count": 105,
   "id": "478c7709",
   "metadata": {},
   "outputs": [],
   "source": [
    "# d.8 Write a function that accepts a dataframe as an argument & normalizes all the data points in the dataframe.\n",
    "def normaliseData(df1):\n",
    "    return df1.apply(lambda x: (x-x.min(axis=0))/(x.max(axis=0)-x.min(axis=0)))\n"
   ]
  },
  {
   "cell_type": "code",
   "execution_count": 107,
   "id": "37fc003d",
   "metadata": {},
   "outputs": [],
   "source": [
    "# d.9 Call the new function and pass as an argument your transformed dataframe\n",
    "df_normalised = normaliseData(df)"
   ]
  },
  {
   "cell_type": "code",
   "execution_count": 108,
   "id": "3cdee050",
   "metadata": {},
   "outputs": [
    {
     "data": {
      "text/html": [
       "<div>\n",
       "<style scoped>\n",
       "    .dataframe tbody tr th:only-of-type {\n",
       "        vertical-align: middle;\n",
       "    }\n",
       "\n",
       "    .dataframe tbody tr th {\n",
       "        vertical-align: top;\n",
       "    }\n",
       "\n",
       "    .dataframe thead th {\n",
       "        text-align: right;\n",
       "    }\n",
       "</style>\n",
       "<table border=\"1\" class=\"dataframe\">\n",
       "  <thead>\n",
       "    <tr style=\"text-align: right;\">\n",
       "      <th></th>\n",
       "      <th>PassengerId</th>\n",
       "      <th>Survived</th>\n",
       "      <th>Pclass</th>\n",
       "      <th>Age</th>\n",
       "      <th>SibSp</th>\n",
       "      <th>Parch</th>\n",
       "      <th>Fare</th>\n",
       "      <th>Sex_female</th>\n",
       "      <th>Sex_male</th>\n",
       "      <th>Embarked_C</th>\n",
       "      <th>Embarked_Q</th>\n",
       "      <th>Embarked_S</th>\n",
       "    </tr>\n",
       "  </thead>\n",
       "  <tbody>\n",
       "    <tr>\n",
       "      <th>0</th>\n",
       "      <td>0.000000</td>\n",
       "      <td>0.0</td>\n",
       "      <td>1.0</td>\n",
       "      <td>0.271174</td>\n",
       "      <td>0.125</td>\n",
       "      <td>0.0</td>\n",
       "      <td>0.014151</td>\n",
       "      <td>0.0</td>\n",
       "      <td>1.0</td>\n",
       "      <td>0.0</td>\n",
       "      <td>0.0</td>\n",
       "      <td>1.0</td>\n",
       "    </tr>\n",
       "    <tr>\n",
       "      <th>1</th>\n",
       "      <td>0.001124</td>\n",
       "      <td>1.0</td>\n",
       "      <td>0.0</td>\n",
       "      <td>0.472229</td>\n",
       "      <td>0.125</td>\n",
       "      <td>0.0</td>\n",
       "      <td>0.139136</td>\n",
       "      <td>1.0</td>\n",
       "      <td>0.0</td>\n",
       "      <td>1.0</td>\n",
       "      <td>0.0</td>\n",
       "      <td>0.0</td>\n",
       "    </tr>\n",
       "  </tbody>\n",
       "</table>\n",
       "</div>"
      ],
      "text/plain": [
       "   PassengerId  Survived  Pclass       Age  SibSp  Parch      Fare  \\\n",
       "0     0.000000       0.0     1.0  0.271174  0.125    0.0  0.014151   \n",
       "1     0.001124       1.0     0.0  0.472229  0.125    0.0  0.139136   \n",
       "\n",
       "   Sex_female  Sex_male  Embarked_C  Embarked_Q  Embarked_S  \n",
       "0         0.0       1.0         0.0         0.0         1.0  \n",
       "1         1.0       0.0         1.0         0.0         0.0  "
      ]
     },
     "execution_count": 108,
     "metadata": {},
     "output_type": "execute_result"
    }
   ],
   "source": [
    "# d.10 Display (print) the first two records.\n",
    "df_normalised.head(2)"
   ]
  },
  {
   "cell_type": "code",
   "execution_count": 109,
   "id": "d725bc3a",
   "metadata": {},
   "outputs": [
    {
     "data": {
      "image/png": "[encoded data removed]",
      "text/plain": [
       "<Figure size 900x1000 with 12 Axes>"
      ]
     },
     "metadata": {},
     "output_type": "display_data"
    }
   ],
   "source": [
    "# d.11 Set the figure size to 9 inches by 10 inches for Histogram.\n",
    "df_normalised.hist(figsize=(9,10))\n",
    "plt.show()\n",
    "#d.12. Form the histogram generated focus on the “Port of Embarkation”"
   ]
  },
  {
   "cell_type": "markdown",
   "id": "9432bbf8",
   "metadata": {},
   "source": [
    "# Model Training"
   ]
  },
  {
   "cell_type": "code",
   "execution_count": 110,
   "id": "ef387fe9",
   "metadata": {},
   "outputs": [],
   "source": [
    "#   d.13. Split the features into a dataframe named x_firstname \n",
    "#         and the target class into another dataframe named y_firstname.\n",
    "cols=['Pclass', 'Age', 'SibSp', 'Parch', 'Fare','Sex_female', 'Sex_male',\n",
    "    'Embarked_C', 'Embarked_Q', 'Embarked_S'] \n",
    "X=df_normalised[cols]\n",
    "Y=df_normalised['Survived']\n",
    "\n",
    "#  i. Using Sklearn “train_test_split” split your data into 70% for training and 30% for testing, \n",
    "#     set the random seed to be the last two digits of your student ID number. \n",
    "#     Store the training data in a dataframe named: x_train_firstname for the features (predictors) \n",
    "#     and the training labels y_train_firstname. Store the test data as follows: x_test_firstname and y_test_firstname.\n",
    "# \"\"\""
   ]
  },
  {
   "cell_type": "code",
   "execution_count": 111,
   "id": "ea905f29",
   "metadata": {},
   "outputs": [],
   "source": [
    "random.seed(19)\n",
    "x_train, x_test, y_train, y_test = train_test_split(X, Y, test_size=0.30, random_state=0)\n"
   ]
  },
  {
   "cell_type": "code",
   "execution_count": 112,
   "id": "b5993a80",
   "metadata": {},
   "outputs": [
    {
     "data": {
      "text/plain": [
       "LogisticRegression()"
      ]
     },
     "execution_count": 112,
     "metadata": {},
     "output_type": "execute_result"
    }
   ],
   "source": [
    "\n",
    "# e.1 Using sklearn fit a logistic regression model to the training data.\n",
    "model = linear_model.LogisticRegression(solver='lbfgs')\n",
    "model.fit(x_train, y_train)\n"
   ]
  },
  {
   "cell_type": "code",
   "execution_count": 113,
   "id": "bd86bd9b",
   "metadata": {},
   "outputs": [
    {
     "name": "stdout",
     "output_type": "stream",
     "text": [
      "            0                       1\n",
      "0      Pclass    [-1.864763212293796]\n",
      "1         Age   [-1.9153618732856583]\n",
      "2       SibSp   [-1.5015243749479437]\n",
      "3       Parch   [-0.4677725429792171]\n",
      "4        Fare   [0.27597779011383655]\n",
      "5  Sex_female    [1.2816826763348617]\n",
      "6    Sex_male   [-1.2813779032246893]\n",
      "7  Embarked_C   [0.12876622490040618]\n",
      "8  Embarked_Q  [0.041940699174745695]\n",
      "9  Embarked_S  [-0.37587028378690646]\n"
     ]
    }
   ],
   "source": [
    "\n",
    "# e.2 Display (print) the coefficients (i.e. the weights of the model).\n",
    "print(pd.DataFrame(zip(x_train.columns, np.transpose(model.coef_))))\n"
   ]
  },
  {
   "cell_type": "code",
   "execution_count": 114,
   "id": "a576175d",
   "metadata": {},
   "outputs": [
    {
     "name": "stdout",
     "output_type": "stream",
     "text": [
      "[0. 0. 0. 1. 1. 0. 1. 1. 1. 1. 0. 1. 0. 1. 1. 1. 0. 0. 0. 0. 0. 1. 0. 0.\n",
      " 1. 1. 0. 1. 1. 1. 0. 1. 0. 0. 0. 1. 0. 0. 0. 0. 0. 0. 0. 0. 1. 0. 0. 1.\n",
      " 0. 0. 0. 1. 1. 0. 1. 0. 0. 0. 0. 0. 0. 1. 1. 1. 1. 0. 1. 0. 1. 1. 1. 0.\n",
      " 1. 0. 0. 1. 0. 0. 0. 0. 0. 0. 1. 0. 0. 1. 1. 0. 1. 1. 0. 0. 0. 1. 1. 0.\n",
      " 1. 0. 0. 1. 0. 0. 0. 0. 1. 1. 1. 0. 0. 1. 0. 1. 0. 1. 0. 1. 1. 1. 0. 1.\n",
      " 0. 0. 0. 0. 0. 0. 0. 0. 0. 0. 1. 0. 0. 1. 0. 0. 0. 0. 0. 0. 0. 1. 0. 1.\n",
      " 1. 1. 0. 1. 1. 0. 0. 1. 1. 0. 1. 0. 1. 0. 1. 1. 0. 0. 1. 0. 0. 0. 0. 0.\n",
      " 0. 0. 0. 1. 0. 0. 1. 0. 1. 0. 0. 1. 0. 0. 0. 0. 0. 0. 1. 0. 0. 1. 1. 0.\n",
      " 1. 1. 0. 0. 0. 1. 0. 0. 0. 1. 0. 1. 0. 0. 1. 0. 1. 0. 0. 0. 0. 1. 0. 0.\n",
      " 0. 0. 0. 1. 0. 1. 1. 0. 0. 0. 0. 1. 0. 0. 0. 1. 1. 1. 0. 0. 1. 1. 1. 0.\n",
      " 0. 1. 0. 0. 1. 0. 1. 0. 0. 1. 0. 0. 0. 0. 0. 1. 1. 0. 0. 0. 0. 0. 0. 0.\n",
      " 0. 0. 1. 1.]\n"
     ]
    }
   ],
   "source": [
    "# prediction\n",
    "predicted = model.predict(x_test)\n",
    "print (predicted)"
   ]
  },
  {
   "cell_type": "code",
   "execution_count": 115,
   "id": "fbfe64d4",
   "metadata": {},
   "outputs": [
    {
     "name": "stdout",
     "output_type": "stream",
     "text": [
      "0.7985074626865671\n"
     ]
    }
   ],
   "source": [
    "# accuracy\n",
    "print (metric.accuracy_score(y_test, predicted))\n"
   ]
  },
  {
   "cell_type": "code",
   "execution_count": 116,
   "id": "70c89044",
   "metadata": {},
   "outputs": [
    {
     "name": "stdout",
     "output_type": "stream",
     "text": [
      "[0.74603175 0.80952381 0.79365079 0.79032258 0.77419355 0.79032258\n",
      " 0.79032258 0.83870968 0.82258065 0.82258065]\n"
     ]
    }
   ],
   "source": [
    "# LGFGS\n",
    "scores = cross_val_score(linear_model.LogisticRegression(solver='lbfgs'), x_train, y_train, scoring='accuracy', cv=10)\n",
    "print(scores)"
   ]
  },
  {
   "cell_type": "markdown",
   "id": "0435e0f3",
   "metadata": {},
   "source": [
    "### printing values for different test size"
   ]
  },
  {
   "cell_type": "code",
   "execution_count": 117,
   "id": "16d095f1",
   "metadata": {
    "scrolled": true
   },
   "outputs": [
    {
     "name": "stdout",
     "output_type": "stream",
     "text": [
      "Score: [0.81481481 0.7375     0.8125     0.7375     0.8125     0.875\n",
      " 0.775      0.775      0.8375     0.8       ]\n",
      "Minimum 0.7375\n",
      "Median 0.7977314814814814\n",
      "Maximum 0.875\n",
      "Accuracy : 0.8\n",
      "\n",
      "\n",
      "\n",
      "Score: [0.84210526 0.78947368 0.80263158 0.78947368 0.77631579 0.72368421\n",
      " 0.81578947 0.84       0.82666667 0.8       ]\n",
      "Minimum 0.7236842105263158\n",
      "Median 0.8006140350877194\n",
      "Maximum 0.8421052631578947\n",
      "Accuracy : 0.8134328358208955\n",
      "\n",
      "\n",
      "\n",
      "Score: [0.83333333 0.75       0.78873239 0.76056338 0.81690141 0.71830986\n",
      " 0.78873239 0.83098592 0.83098592 0.77464789]\n",
      "Minimum 0.7183098591549296\n",
      "Median 0.7893192488262912\n",
      "Maximum 0.8333333333333334\n",
      "Accuracy : 0.8324022346368715\n",
      "\n",
      "\n",
      "\n",
      "Score: [0.79104478 0.82089552 0.76119403 0.74626866 0.82089552 0.7761194\n",
      " 0.79104478 0.88059701 0.72727273 0.81818182]\n",
      "Minimum 0.7272727272727273\n",
      "Median 0.7933514246947083\n",
      "Maximum 0.8805970149253731\n",
      "Accuracy : 0.8071748878923767\n",
      "\n",
      "\n",
      "\n",
      "Score: [0.87301587 0.82539683 0.82539683 0.77419355 0.85483871 0.80645161\n",
      " 0.80645161 0.70967742 0.72580645 0.79032258]\n",
      "Minimum 0.7096774193548387\n",
      "Median 0.7991551459293393\n",
      "Maximum 0.873015873015873\n",
      "Accuracy : 0.7873134328358209\n",
      "\n",
      "\n",
      "\n",
      "Score: [0.86206897 0.79310345 0.75862069 0.94827586 0.70689655 0.67241379\n",
      " 0.77586207 0.75862069 0.70689655 0.80701754]\n",
      "Minimum 0.6724137931034483\n",
      "Median 0.7789776164549304\n",
      "Maximum 0.9482758620689655\n",
      "Accuracy : 0.8173076923076923\n",
      "\n",
      "\n",
      "\n",
      "Score: [0.7962963  0.88888889 0.83333333 0.74074074 0.69811321 0.73584906\n",
      " 0.75471698 0.81132075 0.79245283 0.83018868]\n",
      "Minimum 0.6981132075471698\n",
      "Median 0.7881900768693222\n",
      "Maximum 0.8888888888888888\n",
      "Accuracy : 0.7983193277310925\n",
      "\n",
      "\n",
      "\n",
      "Score: [0.73469388 0.7755102  0.81632653 0.75510204 0.79591837 0.83673469\n",
      " 0.71428571 0.7755102  0.7755102  0.81632653]\n",
      "Minimum 0.7142857142857143\n",
      "Median 0.7795918367346938\n",
      "Maximum 0.8367346938775511\n",
      "Accuracy : 0.8154613466334164\n",
      "\n",
      "\n",
      "\n"
     ]
    }
   ],
   "source": [
    "for i in np.arange (0.10, 0.5, 0.05):\n",
    "#     test_size = 0.10\n",
    "#     test_size = 0.15\n",
    "#     test_size = 0.20 (best--> 83%)\n",
    "#     test_size = 0.25\n",
    "#     test_size = 0.30\n",
    "#     test_size = 0.35\n",
    "#     test_size = 0.40\n",
    "#     test_size = 0.45\n",
    "    x_train, x_test, y_train, y_test = train_test_split(X, Y, test_size=i)\n",
    "    scores = cross_val_score(linear_model.LogisticRegression(solver='lbfgs'), x_train, y_train, scoring='accuracy', cv=10)\n",
    "    \n",
    "    print ('Score:', scores)\n",
    "    print ('Minimum', scores.min())\n",
    "    print ('Median', scores.mean())\n",
    "    print ('Maximum', scores.max())\n",
    "    print('Accuracy :', model.score(x_test, y_test))\n",
    "    print('\\n\\n')\n",
    "\n"
   ]
  },
  {
   "cell_type": "code",
   "execution_count": 118,
   "id": "731b94c5",
   "metadata": {},
   "outputs": [
    {
     "data": {
      "text/plain": [
       "numpy.ndarray"
      ]
     },
     "execution_count": 118,
     "metadata": {},
     "output_type": "execute_result"
    }
   ],
   "source": [
    "\n",
    "x_train, x_test, y_train, y_test = train_test_split(X, Y, test_size=0.30, random_state=0)\n",
    "\n",
    "y_pred = model.predict_proba(x_test)\n",
    "type(y_pred)\n"
   ]
  },
  {
   "cell_type": "code",
   "execution_count": 119,
   "id": "95afab75",
   "metadata": {},
   "outputs": [],
   "source": [
    "# threshold set to 0.5 which is 50%\n",
    "y_pred_flag=y_pred[:,1]>0.3\n",
    "y_pred_df=pd.DataFrame(y_pred_flag)"
   ]
  },
  {
   "cell_type": "code",
   "execution_count": 120,
   "id": "ae5fdef3",
   "metadata": {},
   "outputs": [
    {
     "name": "stdout",
     "output_type": "stream",
     "text": [
      "0.7723880597014925\n"
     ]
    }
   ],
   "source": [
    "# accuracy \n",
    "print(metric.accuracy_score(y_test, y_pred_df))"
   ]
  },
  {
   "cell_type": "code",
   "execution_count": 121,
   "id": "0f7e3cae",
   "metadata": {},
   "outputs": [],
   "source": [
    "# threshold set to 0.3 which is 30%\n",
    "y_pred_flag=y_pred[:,1]>0.3\n",
    "y_pred_df=pd.DataFrame(y_pred_flag)"
   ]
  },
  {
   "cell_type": "code",
   "execution_count": 122,
   "id": "d97c072b",
   "metadata": {},
   "outputs": [
    {
     "name": "stdout",
     "output_type": "stream",
     "text": [
      "0.7723880597014925\n"
     ]
    }
   ],
   "source": [
    "# accuracy \n",
    "print(metric.accuracy_score(y_test, y_pred_df))"
   ]
  },
  {
   "cell_type": "code",
   "execution_count": 123,
   "id": "45323f9a",
   "metadata": {},
   "outputs": [
    {
     "name": "stdout",
     "output_type": "stream",
     "text": [
      "              precision    recall  f1-score   support\n",
      "\n",
      "         0.0       0.88      0.73      0.80       168\n",
      "         1.0       0.65      0.84      0.73       100\n",
      "\n",
      "    accuracy                           0.77       268\n",
      "   macro avg       0.77      0.79      0.77       268\n",
      "weighted avg       0.80      0.77      0.78       268\n",
      "\n"
     ]
    }
   ],
   "source": [
    "# print the classification report\n",
    "print(metric.classification_report(y_test, y_pred_df))"
   ]
  },
  {
   "cell_type": "code",
   "execution_count": 124,
   "id": "01154068",
   "metadata": {},
   "outputs": [
    {
     "name": "stdout",
     "output_type": "stream",
     "text": [
      "[[123  45]\n",
      " [ 16  84]]\n"
     ]
    }
   ],
   "source": [
    "# confusion matrix\n",
    "confusionmatrix =confusion_matrix(y_test, y_pred_df)\n",
    "print (confusionmatrix)"
   ]
  },
  {
   "cell_type": "code",
   "execution_count": 125,
   "id": "332549fd",
   "metadata": {},
   "outputs": [],
   "source": [
    "# threshold set to 0.70 which is 70%\n",
    "y_pred_flag=y_pred[:,1]>0.70\n",
    "y_pred_df=pd.DataFrame(y_pred_flag)"
   ]
  },
  {
   "cell_type": "code",
   "execution_count": 126,
   "id": "42a0b99d",
   "metadata": {},
   "outputs": [
    {
     "name": "stdout",
     "output_type": "stream",
     "text": [
      "0.8059701492537313\n"
     ]
    }
   ],
   "source": [
    "# accuracy\n",
    "print(metric.accuracy_score(y_test, y_pred_df))"
   ]
  },
  {
   "cell_type": "code",
   "execution_count": 128,
   "id": "a1dda2ef",
   "metadata": {},
   "outputs": [
    {
     "name": "stdout",
     "output_type": "stream",
     "text": [
      "              precision    recall  f1-score   support\n",
      "\n",
      "         0.0       0.78      0.96      0.86       168\n",
      "         1.0       0.90      0.54      0.68       100\n",
      "\n",
      "    accuracy                           0.81       268\n",
      "   macro avg       0.84      0.75      0.77       268\n",
      "weighted avg       0.82      0.81      0.79       268\n",
      "\n"
     ]
    }
   ],
   "source": [
    "# classification report\n",
    "print(metric.classification_report(y_test, y_pred_df))"
   ]
  },
  {
   "cell_type": "code",
   "execution_count": 129,
   "id": "0ff94aef",
   "metadata": {},
   "outputs": [
    {
     "name": "stdout",
     "output_type": "stream",
     "text": [
      "[[162   6]\n",
      " [ 46  54]]\n"
     ]
    }
   ],
   "source": [
    "# confusion matrix \n",
    "confusionmatrix =confusion_matrix(y_test, y_pred_df)\n",
    "print (confusionmatrix)"
   ]
  }
 ],
 "metadata": {
  "kernelspec": {
   "display_name": "Python 3 (ipykernel)",
   "language": "python",
   "name": "python3"
  },
  "language_info": {
   "codemirror_mode": {
    "name": "ipython",
    "version": 3
   },
   "file_extension": ".py",
   "mimetype": "text/x-python",
   "name": "python",
   "nbconvert_exporter": "python",
   "pygments_lexer": "ipython3",
   "version": "3.9.12"
  }
 },
 "nbformat": 4,
 "nbformat_minor": 5
}
